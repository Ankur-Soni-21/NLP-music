{
 "cells": [
  {
   "cell_type": "markdown",
   "id": "e808f187",
   "metadata": {},
   "source": [
    "### Install a Few Additional Packages\n",
    "\n",
    "There are a few additional packages we'll be using during the tutorial that are not included when you download Anaconda - wordcloud, textblob and gensim.\n",
    "\n",
    "Open the Anaconda Prompt program. You should see a black window pop up. Type `conda install -c conda-forge wordcloud` to download wordcloud. You will be asked whether you want to proceed or not. Type `y` for yes. Once that is done, type `conda install -c conda-forge textblob` to download textblob and `y` to proceed, and type `conda install -c conda-forge gensim` to download gensim and `y` to proceed."
   ]
  },
  {
   "cell_type": "markdown",
   "id": "e7dfc4bf",
   "metadata": {},
   "source": [
    "|  |  |  |\n",
    "| --- | --- | --- |\n",
    "| Programming | Data | pandas, sklearn, re, nltk |\n",
    "| | NLP| TextBlob, gensim |         \n",
    "| Mathemetics & Statistics |Clean | corpus, document-term matrix |\n",
    "| | EDA | word counts |\n",
    "| | NLP | sentiment analysis,topic modeling, text generation |\n",
    "| Communication | Design | scope, visualize, extract insights|\n",
    "|| Domain | expertise |\n"
   ]
  },
  {
   "cell_type": "markdown",
   "id": "94aef0c1",
   "metadata": {},
   "source": [
    "For NLP through Python(or any other programming) you need sets of skill:\n",
    "1. Programming\n",
    "2. Maths & stats\n",
    "3. Communication\n",
    "\n",
    "We will go through over all three types of skills. \n",
    "In programming set of skill, we will use some Python libraries. For data analysis pandas will be used, we also need regular expression for text data. scikit-learn a great tool for data science has a lot of machine learnin tools. We will use it ot format some of our data.  Some couple of NLP libraries like NLTK natural language tool, textBlob built on NLTK and gensim for topic modeling. These are set of skill you require from Python.\n",
    "\n",
    "You need to understand concepts for interpritation of results. You need to clean raw data  and put in appropriate format for further processing. So the raw text data is general corpus format, then document term metrix. You need to do some exploratory data analysis(EDA) that generate and use word counts. Then three NLP skill sentiment analysis, topic modeling and text generation. Then finally there's this communication piece and usually all the soft skills. It has two parts. There is a design piece which is all about how you design a project and this is so important whenever I advise my students I find that this is where they struggle the most. So, just figuring out if you have a question like where to start, how do you scope out your project, what insights can you draw from that data, what visualizations can you make to communicate things more effectively. So, that's all about design. Then finally having some type of domain expertise is really important. \n"
   ]
  },
  {
   "cell_type": "markdown",
   "id": "1b25ad88",
   "metadata": {},
   "source": [
    "# Data Science Workflow\n",
    "\n",
    "NLP is a sub-domain of Data Science, so, start with introduction to general workflow in Data Science.\n",
    "1. Start with a Question\n",
    "2. Get & Clean the Data\n",
    "3. Perform EDA\n",
    "4. Apply Techniques\n",
    "5. Share Insights\n"
   ]
  },
  {
   "cell_type": "markdown",
   "id": "ae048a86",
   "metadata": {},
   "source": [
    "# A simple example"
   ]
  },
  {
   "cell_type": "markdown",
   "id": "4570f66a",
   "metadata": {},
   "source": [
    "### 1. Start with a Question\n",
    "\"If I study more, will I get a higher grade?\"\n",
    " \n",
    " Now, what data is required to answer this question?\n",
    " ->studies hours and grade of some students!\n",
    " \n",
    " | Student | Studied hours | Grade |\n",
    " | --- | --- | --- | \n",
    " | Naman | 25 | 10 |\n",
    " | Ankit | 7 | 7 |\n",
    " | Palak | Ten | 8 |\n",
    " | Ramu | 15 | 101 |"
   ]
  },
  {
   "cell_type": "markdown",
   "id": "1f41ec52",
   "metadata": {},
   "source": [
    "#### Assignment: \n",
    "1. Clean the data manualy.\n",
    "2. Add more row to above data and share with your friend. Your friend will clean it."
   ]
  },
  {
   "cell_type": "markdown",
   "id": "3ccf6464",
   "metadata": {},
   "source": [
    "### 2.  Get and Clean the data\n",
    "| Student | Studied hours | Grade |\n",
    " | --- | --- | --- | \n",
    " | Naman | 25 | 10 |\n",
    " | Ankit | 7 | 7 |\n",
    " | Palak | 10 | 8 |\n",
    " | Ramu | 15 | 10 |"
   ]
  },
  {
   "cell_type": "markdown",
   "id": "d04ad54a",
   "metadata": {},
   "source": [
    "### 3. Perform EDA\n",
    "#### Assignment: \n",
    "1. Perform EDA on cleaned data.(Hint plot the data) \n",
    "2. Write atleat two observation from EDA."
   ]
  },
  {
   "cell_type": "code",
   "execution_count": 2,
   "id": "798656bf",
   "metadata": {
    "scrolled": true
   },
   "outputs": [
    {
     "data": {
      "text/plain": [
       "<matplotlib.collections.PathCollection at 0x2e393b1a560>"
      ]
     },
     "execution_count": 2,
     "metadata": {},
     "output_type": "execute_result"
    },
    {
     "data": {
      "image/png": "[encoded data removed]",
      "text/plain": [
       "<Figure size 432x288 with 1 Axes>"
      ]
     },
     "metadata": {
      "needs_background": "light"
     },
     "output_type": "display_data"
    }
   ],
   "source": [
    "import matplotlib.pyplot as plt\n",
    "studied_hours=[25, 7, 10, 15] #Try to import the data from \n",
    "grade=[10, 7, 8, 10]          # text file containing the data in same format.\n",
    "plt.scatter(grade, studied_hours)"
   ]
  },
  {
   "cell_type": "markdown",
   "id": "85a2b8f5",
   "metadata": {},
   "source": [
    "### 4. Apply Techniques\n",
    "#### Assignment: \n",
    "1. Apply a machine learning or data science technique to encode your observation in EDA. (Hint: which type of realtion is associated between hours of study and grade)"
   ]
  },
  {
   "cell_type": "code",
   "execution_count": 5,
   "id": "ed164450",
   "metadata": {},
   "outputs": [],
   "source": [
    "#applying regression\n",
    "from sklearn.model_selection import train_test_split\n",
    "from sklearn.linear_model import LinearRegression\n",
    "from sklearn.metrics import mean_squared_error\n",
    "import numpy as np\n",
    "\n",
    "X = np.array(studied_hours).reshape(-1, 1)\n",
    "y=grade\n",
    "\n",
    "X_train,X_test,y_train,y_test=train_test_split(X,y,test_size=0.2)\n",
    "\n"
   ]
  },
  {
   "cell_type": "code",
   "execution_count": 6,
   "id": "38465be0",
   "metadata": {},
   "outputs": [
    {
     "data": {
      "text/html": [
       "<style>#sk-container-id-1 {color: black;background-color: white;}#sk-container-id-1 pre{padding: 0;}#sk-container-id-1 div.sk-toggleable {background-color: white;}#sk-container-id-1 label.sk-toggleable__label {cursor: pointer;display: block;width: 100%;margin-bottom: 0;padding: 0.3em;box-sizing: border-box;text-align: center;}#sk-container-id-1 label.sk-toggleable__label-arrow:before {content: \"▸\";float: left;margin-right: 0.25em;color: #696969;}#sk-container-id-1 label.sk-toggleable__label-arrow:hover:before {color: black;}#sk-container-id-1 div.sk-estimator:hover label.sk-toggleable__label-arrow:before {color: black;}#sk-container-id-1 div.sk-toggleable__content {max-height: 0;max-width: 0;overflow: hidden;text-align: left;background-color: #f0f8ff;}#sk-container-id-1 div.sk-toggleable__content pre {margin: 0.2em;color: black;border-radius: 0.25em;background-color: #f0f8ff;}#sk-container-id-1 input.sk-toggleable__control:checked~div.sk-toggleable__content {max-height: 200px;max-width: 100%;overflow: auto;}#sk-container-id-1 input.sk-toggleable__control:checked~label.sk-toggleable__label-arrow:before {content: \"▾\";}#sk-container-id-1 div.sk-estimator input.sk-toggleable__control:checked~label.sk-toggleable__label {background-color: #d4ebff;}#sk-container-id-1 div.sk-label input.sk-toggleable__control:checked~label.sk-toggleable__label {background-color: #d4ebff;}#sk-container-id-1 input.sk-hidden--visually {border: 0;clip: rect(1px 1px 1px 1px);clip: rect(1px, 1px, 1px, 1px);height: 1px;margin: -1px;overflow: hidden;padding: 0;position: absolute;width: 1px;}#sk-container-id-1 div.sk-estimator {font-family: monospace;background-color: #f0f8ff;border: 1px dotted black;border-radius: 0.25em;box-sizing: border-box;margin-bottom: 0.5em;}#sk-container-id-1 div.sk-estimator:hover {background-color: #d4ebff;}#sk-container-id-1 div.sk-parallel-item::after {content: \"\";width: 100%;border-bottom: 1px solid gray;flex-grow: 1;}#sk-container-id-1 div.sk-label:hover label.sk-toggleable__label {background-color: #d4ebff;}#sk-container-id-1 div.sk-serial::before {content: \"\";position: absolute;border-left: 1px solid gray;box-sizing: border-box;top: 0;bottom: 0;left: 50%;z-index: 0;}#sk-container-id-1 div.sk-serial {display: flex;flex-direction: column;align-items: center;background-color: white;padding-right: 0.2em;padding-left: 0.2em;position: relative;}#sk-container-id-1 div.sk-item {position: relative;z-index: 1;}#sk-container-id-1 div.sk-parallel {display: flex;align-items: stretch;justify-content: center;background-color: white;position: relative;}#sk-container-id-1 div.sk-item::before, #sk-container-id-1 div.sk-parallel-item::before {content: \"\";position: absolute;border-left: 1px solid gray;box-sizing: border-box;top: 0;bottom: 0;left: 50%;z-index: -1;}#sk-container-id-1 div.sk-parallel-item {display: flex;flex-direction: column;z-index: 1;position: relative;background-color: white;}#sk-container-id-1 div.sk-parallel-item:first-child::after {align-self: flex-end;width: 50%;}#sk-container-id-1 div.sk-parallel-item:last-child::after {align-self: flex-start;width: 50%;}#sk-container-id-1 div.sk-parallel-item:only-child::after {width: 0;}#sk-container-id-1 div.sk-dashed-wrapped {border: 1px dashed gray;margin: 0 0.4em 0.5em 0.4em;box-sizing: border-box;padding-bottom: 0.4em;background-color: white;}#sk-container-id-1 div.sk-label label {font-family: monospace;font-weight: bold;display: inline-block;line-height: 1.2em;}#sk-container-id-1 div.sk-label-container {text-align: center;}#sk-container-id-1 div.sk-container {/* jupyter's `normalize.less` sets `[hidden] { display: none; }` but bootstrap.min.css set `[hidden] { display: none !important; }` so we also need the `!important` here to be able to override the default hidden behavior on the sphinx rendered scikit-learn.org. See: https://github.com/scikit-learn/scikit-learn/issues/21755 */display: inline-block !important;position: relative;}#sk-container-id-1 div.sk-text-repr-fallback {display: none;}</style><div id=\"sk-container-id-1\" class=\"sk-top-container\"><div class=\"sk-text-repr-fallback\"><pre>LinearRegression()</pre><b>In a Jupyter environment, please rerun this cell to show the HTML representation or trust the notebook. <br />On GitHub, the HTML representation is unable to render, please try loading this page with nbviewer.org.</b></div><div class=\"sk-container\" hidden><div class=\"sk-item\"><div class=\"sk-estimator sk-toggleable\"><input class=\"sk-toggleable__control sk-hidden--visually\" id=\"sk-estimator-id-1\" type=\"checkbox\" checked><label for=\"sk-estimator-id-1\" class=\"sk-toggleable__label sk-toggleable__label-arrow\">LinearRegression</label><div class=\"sk-toggleable__content\"><pre>LinearRegression()</pre></div></div></div></div></div>"
      ],
      "text/plain": [
       "LinearRegression()"
      ]
     },
     "execution_count": 6,
     "metadata": {},
     "output_type": "execute_result"
    }
   ],
   "source": [
    "model=LinearRegression()\n",
    "model.fit(X_train,y_train)"
   ]
  },
  {
   "cell_type": "code",
   "execution_count": 9,
   "id": "2ea367a5",
   "metadata": {},
   "outputs": [
    {
     "data": {
      "text/plain": [
       "array([8.22857143])"
      ]
     },
     "execution_count": 9,
     "metadata": {},
     "output_type": "execute_result"
    }
   ],
   "source": [
    "ypred=model.predict(X_test)\n",
    "ypred"
   ]
  },
  {
   "cell_type": "code",
   "execution_count": 13,
   "id": "77999dff",
   "metadata": {},
   "outputs": [
    {
     "data": {
      "text/plain": [
       "1.5093877551020431"
      ]
     },
     "execution_count": 13,
     "metadata": {},
     "output_type": "execute_result"
    }
   ],
   "source": [
    "mse=mean_squared_error(y_test,ypred)\n",
    "mse\n"
   ]
  },
  {
   "cell_type": "markdown",
   "id": "58113c62",
   "metadata": {},
   "source": [
    "### 5. Share Insights\n",
    "#### Assignment:\n",
    "1. Is there any relation between the number of hours you study and the grade you will get? Represent the relation using graph.\n",
    "2. What is the speciffic mathemetical relationship between number of hours you study and the grade?\n",
    "3. Is there any abnormality? What conclusion you drown about abnormal data? \n",
    "\n",
    "\n"
   ]
  },
  {
   "cell_type": "markdown",
   "id": "9cdfb1aa",
   "metadata": {},
   "source": [
    "# ans 1"
   ]
  },
  {
   "cell_type": "code",
   "execution_count": 18,
   "id": "fa31bfdc",
   "metadata": {},
   "outputs": [
    {
     "data": {
      "text/plain": [
       "Text(0, 0.5, 'grade')"
      ]
     },
     "execution_count": 18,
     "metadata": {},
     "output_type": "execute_result"
    },
    {
     "data": {
      "image/png": "[encoded data removed]",
      "text/plain": [
       "<Figure size 432x288 with 1 Axes>"
      ]
     },
     "metadata": {
      "needs_background": "light"
     },
     "output_type": "display_data"
    }
   ],
   "source": [
    "#yes there is a positive co relation between the number of hours we study with respect to the grade we get\n",
    "#as more we study a good grade we will get\n",
    "plt.scatter(studied_hours,grade)\n",
    "plt.xlabel(\"hours studied\")\n",
    "plt.ylabel(\"grade\")\n"
   ]
  },
  {
   "cell_type": "markdown",
   "id": "812c3fc1",
   "metadata": {},
   "source": [
    "# ans 2"
   ]
  },
  {
   "cell_type": "raw",
   "id": "ab6026cf",
   "metadata": {},
   "source": [
    "# MATHEMATICAL RELATION BETWEEN NUMBER OF HOURS STUDIED AND GRADE IS:\n",
    "Y=MX+C\n",
    "\n",
    "#WHERE X IS THE NUMBER OF HOURS STUDIED\n",
    "#Y IS GRADE\n",
    "#M IS SLOPE\n",
    "#C IS THE INTERCEPT\n"
   ]
  },
  {
   "cell_type": "markdown",
   "id": "90ced01d",
   "metadata": {},
   "source": [
    "# ans 3"
   ]
  },
  {
   "cell_type": "raw",
   "id": "989bb83b",
   "metadata": {},
   "source": [
    "1.one of the abnormality in the data is in studied_hours column one entery is labelled as Ten which is an incorrect entry\n",
    "2.another abnormality is in the grade column that is 101 which is an outlier since grade can be between 0 to 10\n",
    "\n",
    "\n",
    "This abnormalities can hinder the functioning of our model and can lead to incorrect results.So this data is cleaned in order to\n",
    "get accurate results with minimal error"
   ]
  }
 ],
 "metadata": {
  "kernelspec": {
   "display_name": "Python 3 (ipykernel)",
   "language": "python",
   "name": "python3"
  },
  "language_info": {
   "codemirror_mode": {
    "name": "ipython",
    "version": 3
   },
   "file_extension": ".py",
   "mimetype": "text/x-python",
   "name": "python",
   "nbconvert_exporter": "python",
   "pygments_lexer": "ipython3",
   "version": "3.10.4"
  }
 },
 "nbformat": 4,
 "nbformat_minor": 5
}
